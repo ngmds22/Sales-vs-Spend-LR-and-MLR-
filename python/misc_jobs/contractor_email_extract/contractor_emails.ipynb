{
 "cells": [
  {
   "cell_type": "code",
   "execution_count": 1,
   "metadata": {},
   "outputs": [],
   "source": [
    "import pandas as pd"
   ]
  },
  {
   "cell_type": "code",
   "execution_count": 3,
   "metadata": {},
   "outputs": [],
   "source": [
    "df = pd.read_excel(\"contractor emails - anders.xlsx\")"
   ]
  },
  {
   "cell_type": "code",
   "execution_count": 4,
   "metadata": {},
   "outputs": [],
   "source": [
    "# Extract the email column and split any entries containing multiple emails\n",
    "email_series = df['Contractor Email'].str.split(',')\n",
    "\n",
    "# Flatten the list of emails and remove any leading/trailing whitespace\n",
    "all_emails = email_series.explode().str.strip()"
   ]
  },
  {
   "cell_type": "code",
   "execution_count": 5,
   "metadata": {},
   "outputs": [],
   "source": [
    "# Remove duplicate emails\n",
    "unique_emails = all_emails.drop_duplicates()"
   ]
  },
  {
   "cell_type": "code",
   "execution_count": 6,
   "metadata": {},
   "outputs": [],
   "source": [
    "# Convert to list\n",
    "email_list = unique_emails.tolist()"
   ]
  },
  {
   "cell_type": "code",
   "execution_count": 7,
   "metadata": {},
   "outputs": [
    {
     "name": "stdout",
     "output_type": "stream",
     "text": [
      "['compliance@magicglass.com.au', 'info@magicglass.com.au', 'malcolm@thermalimagingservices.com.au', 'spettitt@aesc.com.au', 'Kate.Abela@infinityfire.com.au', 'andrew.smith@electricaltesting.com.au', 'Accounts.WA@electricaltesting.com.au', 'scheduling@electricaltesting.com.au', 'accounts@electricaltesting.com.au', 'catherine.sant@electricaltesting.com.au', 'Suzanne.Dy', 'jade.barrett@tkelevator.com', 'brisbane.au@tkelevator.com', 'office@modernelectric.com.au', 'service@beaverair.com.au', 'service@beaverwilliams.com.au', 'jamie@northpeak.net.au', 'neil.middling@accor.com', 'compliance@lotuscommercial.com.au', 'bgray@craftwork.com.au', 'service@primewater.com.au', 'enquiries@goldman.com.au', 'Karen.Oakes@flick.com.au', 'jacinda.Akai@flick-anticimex.com.au', 'perth@flick-anticimex.com.au', 'Mara.Tooalo@flick.com.au', 'kate.abela@infinityfire.com.au', 'Marcus.Muccino@infinityfire.com.au', 'Alexandra.Lee@infinityfire.com.au', 'mark@helex.com.au', 'mira@helex.com.au', 'joyce.chandra@flick.com.au', 'roland.arpm@gmail.com', 'cleantechaus@gmail.com', 'sihendersonplumbing@gmail.com', 'spotlessrangehood@gmail.com', 'service@turnerbros.com.au', 'accounts@waterflowcontrol.com.au', 'Mark.Bluett@wsp.com', 'admin@coreserve.com.au', 'romena.lasala@flick.com.au', 'tony@amazeservices.com.au', 'smselectricalgroup@outlook.com', 'brisbanepest@flick-anticimex.com.au', 'info@bayton.com.au', 'mcarcasona@bayton.com.au', 'smatthew@bayton.com.au', 'TrimEVACService.QLD@greencap.com.au', 'Mark.Bluett@greencap.com.au; TrimEVACServiceVIC@greencap.com.au', 'whs@hobartfood.com.au', 'api.compliance@allegion.com', 'jeanette.screen@allegion.com', 'Example@example.com.au', 'james.dunn@kone.com', 'Maree.sklavenitis@kone.com', 'kea.kdbnorthern@kone.com', 'kea.ssd@kone.com', 'daphne.briffa@kone.com', 'james.hammond@kone.com', 'keegan.atchison@kone.com', 'glenn.robson@kone.com', 'admin@totalwater.net.au', 'service@informativesecurity.com.au', 'richard@fork-hire.com.au', 'service@allgate.com.au', 'michael.harkins@dormakaba.com', 'corporateservice.au@dormakaba.com', 'michael.ritchie@dormakaba.com', 'myda.gutlic@dormakaba.com', 'service@primepumps.com.au', 'adrian.s@austlift.com.au', 'eranda.pb@dormakaba.com', 'nshah@hobartfood.com.au', 'pislam@hobartfood.com.au', 'safety@gegroup.com.au', 'inductions@gegroup.com.au', 'mkp@gegroup.com.au', 'accounts.receivable@au.schindler.com', 'Emma.Morice@schindler.com', 'aus_nsw_ei_admins.au@schindler.com', 'vic_admin.au@schindler.com', 'paulclements@bettaindustries.com.au', 'alex@millicare.com.au', 'kerry@millicare.com.au', 'ryan@crystalfire.com.au', 'helpdesk@aesc.com.au', 'kate@zirconfire.com.au', 'Kim@heightsafety.net', 'kim@beers-r-us.com', 'service@triffidplanthire.com.au', 'steve@essentialcr.com.au', 'dw@firstneon.com.au', 'info@acrrefrigeration.com.au', 'dean@acrrefrigeration.com.au', 'Nick@acrrefrigeration.com.au', 'mbentley@lotuscommercial.com.au', 'cburt@lotuscommercial.com.au', 'janey.kakahi@skidata.com']\n"
     ]
    }
   ],
   "source": [
    "# Print the email list\n",
    "print(email_list)"
   ]
  },
  {
   "cell_type": "code",
   "execution_count": 8,
   "metadata": {},
   "outputs": [
    {
     "name": "stdout",
     "output_type": "stream",
     "text": [
      "compliance@magicglass.com.au; info@magicglass.com.au; malcolm@thermalimagingservices.com.au; spettitt@aesc.com.au; Kate.Abela@infinityfire.com.au; andrew.smith@electricaltesting.com.au; Accounts.WA@electricaltesting.com.au; scheduling@electricaltesting.com.au; accounts@electricaltesting.com.au; catherine.sant@electricaltesting.com.au; Suzanne.Dy; jade.barrett@tkelevator.com; brisbane.au@tkelevator.com; office@modernelectric.com.au; service@beaverair.com.au; service@beaverwilliams.com.au; jamie@northpeak.net.au; neil.middling@accor.com; compliance@lotuscommercial.com.au; bgray@craftwork.com.au; service@primewater.com.au; enquiries@goldman.com.au; Karen.Oakes@flick.com.au; jacinda.Akai@flick-anticimex.com.au; perth@flick-anticimex.com.au; Mara.Tooalo@flick.com.au; kate.abela@infinityfire.com.au; Marcus.Muccino@infinityfire.com.au; Alexandra.Lee@infinityfire.com.au; mark@helex.com.au; mira@helex.com.au; joyce.chandra@flick.com.au; roland.arpm@gmail.com; cleantechaus@gmail.com; sihendersonplumbing@gmail.com; spotlessrangehood@gmail.com; service@turnerbros.com.au; accounts@waterflowcontrol.com.au; Mark.Bluett@wsp.com; admin@coreserve.com.au; romena.lasala@flick.com.au; tony@amazeservices.com.au; smselectricalgroup@outlook.com; brisbanepest@flick-anticimex.com.au; info@bayton.com.au; mcarcasona@bayton.com.au; smatthew@bayton.com.au; TrimEVACService.QLD@greencap.com.au; Mark.Bluett@greencap.com.au; TrimEVACServiceVIC@greencap.com.au; whs@hobartfood.com.au; api.compliance@allegion.com; jeanette.screen@allegion.com; Example@example.com.au; james.dunn@kone.com; Maree.sklavenitis@kone.com; kea.kdbnorthern@kone.com; kea.ssd@kone.com; daphne.briffa@kone.com; james.hammond@kone.com; keegan.atchison@kone.com; glenn.robson@kone.com; admin@totalwater.net.au; service@informativesecurity.com.au; richard@fork-hire.com.au; service@allgate.com.au; michael.harkins@dormakaba.com; corporateservice.au@dormakaba.com; michael.ritchie@dormakaba.com; myda.gutlic@dormakaba.com; service@primepumps.com.au; adrian.s@austlift.com.au; eranda.pb@dormakaba.com; nshah@hobartfood.com.au; pislam@hobartfood.com.au; safety@gegroup.com.au; inductions@gegroup.com.au; mkp@gegroup.com.au; accounts.receivable@au.schindler.com; Emma.Morice@schindler.com; aus_nsw_ei_admins.au@schindler.com; vic_admin.au@schindler.com; paulclements@bettaindustries.com.au; alex@millicare.com.au; kerry@millicare.com.au; ryan@crystalfire.com.au; helpdesk@aesc.com.au; kate@zirconfire.com.au; Kim@heightsafety.net; kim@beers-r-us.com; service@triffidplanthire.com.au; steve@essentialcr.com.au; dw@firstneon.com.au; info@acrrefrigeration.com.au; dean@acrrefrigeration.com.au; Nick@acrrefrigeration.com.au; mbentley@lotuscommercial.com.au; cburt@lotuscommercial.com.au; janey.kakahi@skidata.com\n"
     ]
    }
   ],
   "source": [
    "# Convert the list of unique emails into a single string separated by semicolons\n",
    "emails_with_semicolons = '; '.join(email_list)\n",
    "\n",
    "# Save the email string to a file\n",
    "with open('unique_emails_semicolons.txt', 'w') as file:\n",
    "    file.write(emails_with_semicolons)\n",
    "\n",
    "# Optionally, you can also print to check\n",
    "print(emails_with_semicolons)"
   ]
  }
 ],
 "metadata": {
  "kernelspec": {
   "display_name": ".venv",
   "language": "python",
   "name": "python3"
  },
  "language_info": {
   "codemirror_mode": {
    "name": "ipython",
    "version": 3
   },
   "file_extension": ".py",
   "mimetype": "text/x-python",
   "name": "python",
   "nbconvert_exporter": "python",
   "pygments_lexer": "ipython3",
   "version": "3.12.2"
  }
 },
 "nbformat": 4,
 "nbformat_minor": 2
}
