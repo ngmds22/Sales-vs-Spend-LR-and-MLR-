{
 "cells": [
  {
   "cell_type": "code",
   "execution_count": 8,
   "metadata": {},
   "outputs": [
    {
     "name": "stdout",
     "output_type": "stream",
     "text": [
      "66625.0\n"
     ]
    }
   ],
   "source": [
    "import pandas as pd\n",
    "\n",
    "# Load the spreadsheet\n",
    "xl = pd.ExcelFile('Book1.xlsx')\n",
    "\n",
    "# Load a sheet into a DataFrame by its name\n",
    "df = xl.parse(xl.sheet_names[0])\n",
    "\n",
    "# Sum the first column\n",
    "sum_first_column = df.iloc[:, 0].sum()\n",
    "\n",
    "print(sum_first_column)"
   ]
  }
 ],
 "metadata": {
  "kernelspec": {
   "display_name": ".venv",
   "language": "python",
   "name": "python3"
  },
  "language_info": {
   "codemirror_mode": {
    "name": "ipython",
    "version": 3
   },
   "file_extension": ".py",
   "mimetype": "text/x-python",
   "name": "python",
   "nbconvert_exporter": "python",
   "pygments_lexer": "ipython3",
   "version": "3.12.2"
  }
 },
 "nbformat": 4,
 "nbformat_minor": 2
}
