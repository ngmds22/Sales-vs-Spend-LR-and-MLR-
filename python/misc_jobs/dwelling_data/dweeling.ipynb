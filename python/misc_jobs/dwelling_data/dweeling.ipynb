{
 "cells": [
  {
   "cell_type": "code",
   "execution_count": 3,
   "metadata": {},
   "outputs": [],
   "source": [
    "import pandas as pd\n",
    "from geopy.geocoders import Nominatim\n",
    "import folium\n",
    "\n",
    "# Load the Excel data\n",
    "df = pd.read_excel('C:/vscode/python/misc_jobs/dwelling_data/dwelling_data.xlsx')"
   ]
  },
  {
   "cell_type": "code",
   "execution_count": 7,
   "metadata": {},
   "outputs": [],
   "source": [
    "# Convert 'Street No' and 'Postcode' to strings\n",
    "df['Street No'] = df['Street No'].astype(str)\n",
    "df['Dwelling Postcode'] = df['Dwelling Postcode'].astype(str)\n",
    "\n",
    "# Geocode addresses\n",
    "geolocator = Nominatim(user_agent=\"geoapiExercises\")\n",
    "df['full_address'] = df['Street No'].astype(str) + \" \" + df['Street Name'] + \", \" + df['Dwelling Suburb'] + \", \" + df['Dwelling Postcode'] + \", Australia\"\n",
    "\n",
    "def geocode(address):\n",
    "    try:\n",
    "        location = geolocator.geocode(address)\n",
    "        return location.latitude, location.longitude\n",
    "    except:\n",
    "        return None, None\n",
    "\n",
    "df['lat'], df['lon'] = zip(*df['full_address'].apply(geocode))"
   ]
  },
  {
   "cell_type": "code",
   "execution_count": 8,
   "metadata": {},
   "outputs": [],
   "source": [
    "# Create a map\n",
    "m = folium.Map(location=[-33.8688, 151.2093], zoom_start=10)\n",
    "\n",
    "# Add markers\n",
    "for index, row in df.iterrows():\n",
    "    if pd.notna(row['lat']) and pd.notna(row['lon']):\n",
    "        folium.Marker([row['lat'], row['lon']], popup=row['full_address']).add_to(m)\n",
    "\n",
    "# Save map to HTML file\n",
    "m.save('map.html')"
   ]
  },
  {
   "cell_type": "code",
   "execution_count": 9,
   "metadata": {},
   "outputs": [],
   "source": [
    "# Save the geocoded results to a new CSV file\n",
    "df[['full_address', 'lat', 'lon']].to_csv('geocoded_addresses.csv', index=False)"
   ]
  },
  {
   "cell_type": "code",
   "execution_count": 10,
   "metadata": {},
   "outputs": [
    {
     "name": "stdout",
     "output_type": "stream",
     "text": [
      "done\n"
     ]
    }
   ],
   "source": [
    "# Create a new column with Google Maps links\n",
    "df['google_maps_link'] = 'https://www.google.com/maps/search/?api=1&query=' + df['full_address'].apply(lambda x: x.replace(' ', '+'))\n",
    "\n",
    "# Save to a new CSV file or Excel file\n",
    "df.to_csv('addresses_with_gmaps_links.csv', index=False)\n",
    "df.to_excel('addresses_with_gmaps_links.xlsx', index=False)\n",
    "\n",
    "print(\"done\")"
   ]
  }
 ],
 "metadata": {
  "kernelspec": {
   "display_name": ".venv",
   "language": "python",
   "name": "python3"
  },
  "language_info": {
   "codemirror_mode": {
    "name": "ipython",
    "version": 3
   },
   "file_extension": ".py",
   "mimetype": "text/x-python",
   "name": "python",
   "nbconvert_exporter": "python",
   "pygments_lexer": "ipython3",
   "version": "3.12.2"
  }
 },
 "nbformat": 4,
 "nbformat_minor": 2
}
