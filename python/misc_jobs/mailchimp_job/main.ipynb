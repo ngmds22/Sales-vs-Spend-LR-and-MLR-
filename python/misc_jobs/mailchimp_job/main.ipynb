{
 "cells": [
  {
   "cell_type": "code",
   "execution_count": 1,
   "metadata": {},
   "outputs": [
    {
     "data": {
      "text/plain": [
       "(                                Email Address                    Domain Name  \\\n",
       " 0              southport.branch@131key.com.au                  131key.com.au   \n",
       " 1                     southport@131key.com.au                  131key.com.au   \n",
       " 2                  jc@777handymanservices.com        777handymanservices.com   \n",
       " 3    adam.solak@888electricalsolutions.com.au  888electricalsolutions.com.au   \n",
       " 4  kevin.wilson@888electricalsolutions.com.au  888electricalsolutions.com.au   \n",
       " \n",
       "    Reason                  Last Update Time  \\\n",
       " 0  BOUNCE  2022-05-31 03:31:57.991000+05:30   \n",
       " 1  BOUNCE  2021-10-15 02:31:13.870000+05:30   \n",
       " 2  BOUNCE  2021-09-16 15:13:15.311000+05:30   \n",
       " 3  BOUNCE  2021-10-26 17:49:55.698000+05:30   \n",
       " 4  BOUNCE  2022-03-18 02:31:17.597000+05:30   \n",
       " \n",
       "                     Email Address (MC)  \n",
       " 0                 hsmith@unison.org.au  \n",
       " 1  staciegraham-hawes@playforce.com.au  \n",
       " 2              katewallman@hotmail.com  \n",
       " 3                sarah.martin@cbre.com  \n",
       " 4      Daniel.Baker@charterhall.com.au  ,\n",
       " Index(['Email Address', 'Domain Name', 'Reason', 'Last Update Time',\n",
       "        'Email Address (MC)'],\n",
       "       dtype='object'))"
      ]
     },
     "execution_count": 1,
     "metadata": {},
     "output_type": "execute_result"
    }
   ],
   "source": [
    "import pandas as pd\n",
    "\n",
    "# Load the Excel file\n",
    "file_path = 'Copy of BOSS_SES_suppressed_emails.xlsx'\n",
    "data = pd.read_excel(file_path)\n",
    "\n",
    "# Display the first few rows of the data to understand its structure\n",
    "data.head(), data.columns\n"
   ]
  },
  {
   "cell_type": "code",
   "execution_count": 3,
   "metadata": {},
   "outputs": [
    {
     "data": {
      "text/plain": [
       "'C:/vscode/python/misc_jobs/mailchimp_job/Filtered_Emails.xlsx'"
      ]
     },
     "execution_count": 3,
     "metadata": {},
     "output_type": "execute_result"
    }
   ],
   "source": [
    "# Convert the email columns to sets for efficient comparison\n",
    "bounce_emails = set(data['Email Address'].dropna())\n",
    "mailchimp_emails = set(data['Email Address (MC)'].dropna())\n",
    "\n",
    "# Find the difference: emails in Mailchimp not bounced\n",
    "remaining_emails = mailchimp_emails - bounce_emails\n",
    "\n",
    "# Convert the remaining emails to a DataFrame\n",
    "remaining_emails_df = pd.DataFrame(list(remaining_emails), columns=['Remaining Emails'])\n",
    "\n",
    "# Path to save the output Excel file\n",
    "output_file_path = 'C:/vscode/python/misc_jobs/mailchimp_job/Filtered_Emails.xlsx'\n",
    "remaining_emails_df.to_excel(output_file_path, index=False)\n",
    "\n",
    "output_file_path\n"
   ]
  }
 ],
 "metadata": {
  "kernelspec": {
   "display_name": ".venv",
   "language": "python",
   "name": "python3"
  },
  "language_info": {
   "codemirror_mode": {
    "name": "ipython",
    "version": 3
   },
   "file_extension": ".py",
   "mimetype": "text/x-python",
   "name": "python",
   "nbconvert_exporter": "python",
   "pygments_lexer": "ipython3",
   "version": "3.12.2"
  }
 },
 "nbformat": 4,
 "nbformat_minor": 2
}
