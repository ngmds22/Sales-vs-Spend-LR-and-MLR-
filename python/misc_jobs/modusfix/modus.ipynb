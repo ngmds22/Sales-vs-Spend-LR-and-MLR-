{
 "cells": [
  {
   "cell_type": "code",
   "execution_count": 5,
   "metadata": {
    "metadata": {}
   },
   "outputs": [
    {
     "name": "stdout",
     "output_type": "stream",
     "text": [
      "            Site Id\n",
      "count    177.000000\n",
      "mean   23576.067797\n",
      "std    12411.096681\n",
      "min     2515.000000\n",
      "25%    16086.000000\n",
      "50%    31834.000000\n",
      "75%    32342.000000\n",
      "max    44154.000000\n",
      "[31811 35247 31864 32444 32351  2573 16093 16689 16690 16793 31893 19595\n",
      " 31875 35238 35175 16098 13219 32431 32206 32418  2579  2596  3794  2577\n",
      " 16078 16080 16082 16087 16094 16095 16096 16097 29819 31808 31902 31834\n",
      " 32197 32450 31863 32223 41223 41244 41248  2601  2599  2536  2517  2515\n",
      "  2532 35240 16086 22494 28444 31844 31882 35258 35901 41239 32359 32332\n",
      " 16091 16103  2595  2603  2598  6722 31901 32339 35260 31906 32196 32342\n",
      " 17246 31903 32227 34552 32207 35242 41177 32447 31841 31862 16079 16081\n",
      " 16104 25467 32363 44154 31835  2602]\n"
     ]
    }
   ],
   "source": [
    "import pandas as pd\n",
    "\n",
    "# Load the Excel file\n",
    "df = pd.read_excel(\"modussites_jll.xlsx\")\n",
    "\n",
    "# Display descriptive statistics\n",
    "print(df.describe())\n",
    "\n",
    "# Print unique values in 'Site Id' column\n",
    "print(df['Site Id']. unique())\n"
   ]
  },
  {
   "cell_type": "code",
   "execution_count": 6,
   "metadata": {
    "metadata": {}
   },
   "outputs": [],
   "source": [
    "# Load the new dataset\n",
    "df_new = pd.read_excel(\"modus_current.xlsx\")\n",
    "\n",
    "# List of site IDs to be removed\n",
    "site_ids_to_remove = [31811, 35247, 31864, 32444, 32351, 2573, 16093, 16689, 16690, 16793, 31893, 19595,\n",
    "                      31875, 35238, 35175, 16098, 13219, 32431, 32206, 32418, 2579, 2596, 3794, 2577,\n",
    "                      16078, 16080, 16082, 16087, 16094, 16095, 16096, 16097, 29819, 31808, 31902, 31834,\n",
    "                      32197, 32450, 31863, 32223, 41223, 41244, 41248, 2601, 2599, 2536, 2517, 2515,\n",
    "                      2532, 35240, 16086, 22494, 28444, 31844, 31882, 35258, 35901, 41239, 32359, 32332,\n",
    "                      16091, 16103, 2595, 2603, 2598, 6722, 31901, 32339, 35260, 31906, 32196, 32342,\n",
    "                      17246, 31903, 32227, 34552, 32207, 35242, 41177, 32447, 31841, 31862, 16079, 16081,\n",
    "                      16104, 25467, 32363, 44154, 31835, 2602]\n",
    "\n",
    "# Filter the DataFrame to exclude these IDs\n",
    "df_filtered = df_new[~df_new['Site No'].isin(site_ids_to_remove)]\n",
    "\n",
    "# Optionally, save the filtered DataFrame to a new file\n",
    "df_filtered.to_excel(\"filtered_dataset.xlsx\", index=False)"
   ]
  }
 ],
 "metadata": {
  "kernelspec": {
   "display_name": ".venv",
   "language": "python",
   "name": "python3"
  },
  "language_info": {
   "codemirror_mode": {
    "name": "ipython",
    "version": 3
   },
   "file_extension": ".py",
   "mimetype": "text/x-python",
   "name": "python",
   "nbconvert_exporter": "python",
   "pygments_lexer": "ipython3",
   "version": "3.12.2"
  }
 },
 "nbformat": 4,
 "nbformat_minor": 2
}
